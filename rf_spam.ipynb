{
 "cells": [
  {
   "cell_type": "code",
   "execution_count": 2,
   "id": "817ac8d7",
   "metadata": {},
   "outputs": [],
   "source": [
    "import pandas as pd\n",
    "from sklearn.model_selection import train_test_split\n",
    "from sklearn.feature_extraction.text import TfidfVectorizer\n",
    "from sklearn.linear_model import LogisticRegression\n",
    "from sklearn.metrics import classification_report, confusion_matrix\n"
   ]
  },
  {
   "cell_type": "code",
   "execution_count": 3,
   "id": "a58f43a2",
   "metadata": {},
   "outputs": [
    {
     "name": "stdout",
     "output_type": "stream",
     "text": [
      "  Category                                            Message\n",
      "0      ham  Go until jurong point, crazy.. Available only ...\n",
      "1      ham                      Ok lar... Joking wif u oni...\n",
      "2     spam  Free entry in 2 a wkly comp to win FA Cup fina...\n",
      "3      ham  U dun say so early hor... U c already then say...\n",
      "4      ham  Nah I don't think he goes to usf, he lives aro...\n"
     ]
    }
   ],
   "source": [
    "# Load the CSV file (adjust path as needed)\n",
    "df = pd.read_csv('spam (Text).csv')\n",
    "\n",
    "# Display the first few rows to understand the structure\n",
    "print(df.head())\n",
    "\n",
    "# Map labels to numbers: spam=1, ham=0\n",
    "df['Label'] = df['Category'].map({'ham': 0, 'spam': 1})\n",
    "\n",
    "X = df['Message']\n",
    "y = df['Label']"
   ]
  },
  {
   "cell_type": "code",
   "execution_count": 4,
   "id": "b3fb813c",
   "metadata": {},
   "outputs": [
    {
     "name": "stdout",
     "output_type": "stream",
     "text": [
      "              precision    recall  f1-score   support\n",
      "\n",
      "           0       0.99      0.98      0.99       966\n",
      "           1       0.90      0.92      0.91       149\n",
      "\n",
      "    accuracy                           0.98      1115\n",
      "   macro avg       0.94      0.95      0.95      1115\n",
      "weighted avg       0.98      0.98      0.98      1115\n",
      "\n",
      "[[951  15]\n",
      " [ 12 137]]\n"
     ]
    }
   ],
   "source": [
    "\n",
    "# 2. Split dataset\n",
    "X_train, X_test, y_train, y_test = train_test_split(\n",
    "    df['Message'], df['Label'], test_size=0.2, random_state=42, stratify=df['Label']\n",
    ")\n",
    "\n",
    "# 3. Vectorize text (TF-IDF)\n",
    "vectorizer = TfidfVectorizer(stop_words='english', max_features=3000)\n",
    "X_train_tfidf = vectorizer.fit_transform(X_train)\n",
    "X_test_tfidf = vectorizer.transform(X_test)\n",
    "\n",
    "# 4. Train Logistic Regression (with class weight to handle imbalance)\n",
    "model = LogisticRegression(class_weight='balanced', max_iter=1000)\n",
    "model.fit(X_train_tfidf, y_train)\n",
    "\n",
    "# 5. Predictions and evaluation\n",
    "y_pred = model.predict(X_test_tfidf)\n",
    "print(classification_report(y_test, y_pred))\n",
    "print(confusion_matrix(y_test, y_pred))\n"
   ]
  },
  {
   "cell_type": "code",
   "execution_count": 5,
   "id": "3382222b",
   "metadata": {},
   "outputs": [
    {
     "name": "stdout",
     "output_type": "stream",
     "text": [
      "              precision    recall  f1-score   support\n",
      "\n",
      "           0       0.98      1.00      0.99       966\n",
      "           1       1.00      0.85      0.92       149\n",
      "\n",
      "    accuracy                           0.98      1115\n",
      "   macro avg       0.99      0.93      0.95      1115\n",
      "weighted avg       0.98      0.98      0.98      1115\n",
      "\n",
      "[[966   0]\n",
      " [ 22 127]]\n"
     ]
    }
   ],
   "source": [
    "from sklearn.ensemble import RandomForestClassifier\n",
    "model = RandomForestClassifier(class_weight='balanced', n_estimators=100, random_state=42)\n",
    "model.fit(X_train_tfidf, y_train)\n",
    "\n",
    "# 5. Predictions and evaluation\n",
    "y_pred = model.predict(X_test_tfidf)\n",
    "print(classification_report(y_test, y_pred))\n",
    "print(confusion_matrix(y_test, y_pred))"
   ]
  },
  {
   "cell_type": "code",
   "execution_count": 7,
   "id": "707786ed",
   "metadata": {},
   "outputs": [
    {
     "data": {
      "text/plain": [
       "['rf_model.pkl']"
      ]
     },
     "execution_count": 7,
     "metadata": {},
     "output_type": "execute_result"
    }
   ],
   "source": [
    "import joblib\n",
    "# Save vectorizer and model\n",
    "joblib.dump(vectorizer, 'tfidf_vectorizer.pkl')\n",
    "joblib.dump(model, 'rf_model.pkl')"
   ]
  },
  {
   "cell_type": "code",
   "execution_count": 12,
   "id": "0f264a7a",
   "metadata": {},
   "outputs": [
    {
     "name": "stdout",
     "output_type": "stream",
     "text": [
      "Spam\n"
     ]
    }
   ],
   "source": [
    "new_text = [\"Congratulations! You've won a free ticket. Reply WIN to claim now!\"]\n",
    "new_text = [\"Good morning\"]\n",
    "new_text = [\"Free entry in 2 a wkly comp to win FA Cup final tkts 21st May 2005\"]\n",
    "# If you have a list of messages, pass them directly\n",
    "new_text_tfidf = vectorizer.transform(new_text)\n",
    "prediction = model.predict(new_text_tfidf)\n",
    "print(\"Spam\" if prediction[0] == 1 else \"Ham\")\n"
   ]
  },
  {
   "cell_type": "code",
   "execution_count": 13,
   "id": "11c6dd08",
   "metadata": {},
   "outputs": [
    {
     "name": "stdout",
     "output_type": "stream",
     "text": [
      "Probability of spam: 0.60\n"
     ]
    }
   ],
   "source": [
    "probability = model.predict_proba(new_text_tfidf)\n",
    "print(f\"Probability of spam: {probability[0][1]:.2f}\")"
   ]
  },
  {
   "cell_type": "code",
   "execution_count": 14,
   "id": "5d3c0361",
   "metadata": {},
   "outputs": [],
   "source": [
    "# === prepare classifier ===\n",
    "encoder = joblib.load(\"tfidf_vectorizer.pkl\")  # Load the encoder\n",
    "# Load the pre-trained model\n",
    "model = joblib.load(\"rf_model.pkl\")"
   ]
  },
  {
   "cell_type": "code",
   "execution_count": 23,
   "id": "b3b5ff30",
   "metadata": {},
   "outputs": [
    {
     "name": "stdout",
     "output_type": "stream",
     "text": [
      "Not Spam\n",
      "Probability of spam: 0.28\n"
     ]
    }
   ],
   "source": [
    "#message_text = \"Congratulations! You've won a free ticket. Reply WIN to claim now!\"\n",
    "#message_text = \"Good morning\"\n",
    "#message_text = \"Free entry in 2 a wkly comp to win FA Cup final tkts 21st May 2005\"\n",
    "message_text = \"Congratulations! You've won.\"\n",
    "\n",
    "# run classification\n",
    "\n",
    "X_emb = encoder.transform([message_text])\n",
    "prediction = model.predict(X_emb)\n",
    "\n",
    "if prediction[0] == 1:\n",
    "    result = \"Spam\"\n",
    "else:\n",
    "    result = \"Not Spam\"\n",
    "print(result)\n",
    "\n",
    "probability = model.predict_proba(X_emb)\n",
    "print(f\"Probability of spam: {probability[0][1]:.2f}\")\n"
   ]
  }
 ],
 "metadata": {
  "kernelspec": {
   "display_name": "Python 3",
   "language": "python",
   "name": "python3"
  },
  "language_info": {
   "codemirror_mode": {
    "name": "ipython",
    "version": 3
   },
   "file_extension": ".py",
   "mimetype": "text/x-python",
   "name": "python",
   "nbconvert_exporter": "python",
   "pygments_lexer": "ipython3",
   "version": "3.12.1"
  }
 },
 "nbformat": 4,
 "nbformat_minor": 5
}
